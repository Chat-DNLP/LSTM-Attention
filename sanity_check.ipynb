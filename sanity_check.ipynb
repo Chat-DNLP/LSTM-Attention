{
 "cells": [
  {
   "cell_type": "markdown",
   "metadata": {},
   "source": [
    "## Realización de un *sanity check* del mecanismo de atención"
   ]
  },
  {
   "cell_type": "code",
   "execution_count": 1,
   "metadata": {},
   "outputs": [],
   "source": [
    "import torch"
   ]
  },
  {
   "cell_type": "code",
   "execution_count": 2,
   "metadata": {},
   "outputs": [
    {
     "name": "stdout",
     "output_type": "stream",
     "text": [
      "outputs_encoder torch.Size([3, 2, 4])\n",
      "hidden_state torch.Size([1, 3, 4])\n"
     ]
    }
   ],
   "source": [
    "outputs_encoder = torch.tensor([\n",
    "    [[1, 1, 1, 1], [1, 1, 1, 1]],\n",
    "    [[2, 2, 2, 2], [2, 2, 2, 2]],\n",
    "    [[3, 3, 3, 3], [3, 3, 3, 3]]\n",
    "], dtype=torch.float32)\n",
    "\n",
    "hidden_state = torch.tensor([[[1, 2, 3, 4], [1, 2, 3, 4], [1, 2, 3, 4]]], dtype=torch.float32)\n",
    "\n",
    "print(\"outputs_encoder\", outputs_encoder.shape)\n",
    "print(\"hidden_state\", hidden_state.shape)"
   ]
  },
  {
   "cell_type": "code",
   "execution_count": 3,
   "metadata": {},
   "outputs": [
    {
     "name": "stdout",
     "output_type": "stream",
     "text": [
      "attention_weights tensor([[10., 10.],\n",
      "        [20., 20.],\n",
      "        [30., 30.]])\n"
     ]
    }
   ],
   "source": [
    "h_t = hidden_state.squeeze(0)\n",
    "h_t = h_t.unsqueeze(2)\n",
    "score = torch.bmm(outputs_encoder, h_t)\n",
    "attention_weights = score.squeeze(2)\n",
    "\n",
    "print(\"attention_weights\", attention_weights)"
   ]
  },
  {
   "cell_type": "code",
   "execution_count": 4,
   "metadata": {},
   "outputs": [
    {
     "name": "stdout",
     "output_type": "stream",
     "text": [
      "normalized_vectors tensor([[[0.5000],\n",
      "         [0.5000]],\n",
      "\n",
      "        [[0.5000],\n",
      "         [0.5000]],\n",
      "\n",
      "        [[0.5000],\n",
      "         [0.5000]]])\n",
      "shape torch.Size([3, 2, 1])\n"
     ]
    }
   ],
   "source": [
    "normalized_vectors = torch.softmax(attention_weights, dim=1).unsqueeze(-1)\n",
    "print(\"normalized_vectors\", normalized_vectors)\n",
    "print(\"shape\", normalized_vectors.shape)"
   ]
  },
  {
   "cell_type": "code",
   "execution_count": 5,
   "metadata": {},
   "outputs": [
    {
     "name": "stdout",
     "output_type": "stream",
     "text": [
      "Shape torch.Size([3, 2, 4])\n",
      "attention_output: tensor([[[0.5000, 0.5000, 0.5000, 0.5000],\n",
      "         [0.5000, 0.5000, 0.5000, 0.5000]],\n",
      "\n",
      "        [[1.0000, 1.0000, 1.0000, 1.0000],\n",
      "         [1.0000, 1.0000, 1.0000, 1.0000]],\n",
      "\n",
      "        [[1.5000, 1.5000, 1.5000, 1.5000],\n",
      "         [1.5000, 1.5000, 1.5000, 1.5000]]])\n"
     ]
    }
   ],
   "source": [
    "attention_output = normalized_vectors * outputs_encoder\n",
    "print(\"Shape\", attention_output.shape)\n",
    "print(\"attention_output:\", attention_output)"
   ]
  },
  {
   "cell_type": "code",
   "execution_count": 6,
   "metadata": {},
   "outputs": [
    {
     "name": "stdout",
     "output_type": "stream",
     "text": [
      "summed_vectors tensor([[[1., 1., 1., 1.]],\n",
      "\n",
      "        [[2., 2., 2., 2.]],\n",
      "\n",
      "        [[3., 3., 3., 3.]]])\n"
     ]
    }
   ],
   "source": [
    "summed_vectors = torch.sum(attention_output, dim=1, keepdim=True)\n",
    "\n",
    "print(\"summed_vectors\", summed_vectors)"
   ]
  },
  {
   "cell_type": "code",
   "execution_count": 7,
   "metadata": {},
   "outputs": [
    {
     "name": "stdout",
     "output_type": "stream",
     "text": [
      "Shape hidden torch.Size([1, 3, 4])\n",
      "hidden_state tensor([[[1., 2., 3., 4.],\n",
      "         [1., 2., 3., 4.],\n",
      "         [1., 2., 3., 4.]]])\n",
      "---------------------------\n",
      "Shape hidden_transpose torch.Size([3, 1, 4])\n",
      "hidden_transpose tensor([[[1., 2., 3., 4.]],\n",
      "\n",
      "        [[1., 2., 3., 4.]],\n",
      "\n",
      "        [[1., 2., 3., 4.]]])\n"
     ]
    }
   ],
   "source": [
    "hidden_attention = hidden_state.transpose(0, 1)\n",
    "\n",
    "print(\"Shape hidden\", hidden_state.shape)\n",
    "print(\"hidden_state\", hidden_state)\n",
    "print(\"---------------------------\")\n",
    "print(\"Shape hidden_transpose\", hidden_attention.shape)\n",
    "print(\"hidden_transpose\", hidden_attention)"
   ]
  },
  {
   "cell_type": "code",
   "execution_count": 8,
   "metadata": {},
   "outputs": [
    {
     "name": "stdout",
     "output_type": "stream",
     "text": [
      "output_attention tensor([[[1., 1., 1., 1., 1., 2., 3., 4.]],\n",
      "\n",
      "        [[2., 2., 2., 2., 1., 2., 3., 4.]],\n",
      "\n",
      "        [[3., 3., 3., 3., 1., 2., 3., 4.]]])\n"
     ]
    }
   ],
   "source": [
    "output_attention = torch.cat((summed_vectors, hidden_attention), dim=2)\n",
    "print(\"output_attention\", output_attention)"
   ]
  }
 ],
 "metadata": {
  "kernelspec": {
   "display_name": "pln",
   "language": "python",
   "name": "python3"
  },
  "language_info": {
   "codemirror_mode": {
    "name": "ipython",
    "version": 3
   },
   "file_extension": ".py",
   "mimetype": "text/x-python",
   "name": "python",
   "nbconvert_exporter": "python",
   "pygments_lexer": "ipython3",
   "version": "3.10.14"
  }
 },
 "nbformat": 4,
 "nbformat_minor": 2
}
